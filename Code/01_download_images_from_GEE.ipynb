{
 "cells": [
  {
   "cell_type": "code",
   "execution_count": null,
   "metadata": {},
   "outputs": [],
   "source": [
    "import ee\n",
    "import os\n",
    "import geopandas as gpd\n",
    "%autosave 30"
   ]
  },
  {
   "cell_type": "code",
   "execution_count": null,
   "metadata": {},
   "outputs": [],
   "source": [
    "# # Authenticate Google Earth Engine if not done so\n",
    "# ee.Authenticate()"
   ]
  },
  {
   "cell_type": "code",
   "execution_count": null,
   "metadata": {},
   "outputs": [],
   "source": [
    "# Initialize Google Earth Engine\n",
    "try:\n",
    "    ee.Initialize()\n",
    "except:\n",
    "    os.environ['HTTP_PROXY'] = 'http://127.0.0.1:7890'\n",
    "    os.environ['HTTPS_PROXY'] = 'http://127.0.0.1:7890'\n",
    "    ee.Initialize()"
   ]
  },
  {
   "cell_type": "code",
   "execution_count": null,
   "metadata": {},
   "outputs": [],
   "source": [
    "# Define some global functions\n",
    "def getNDSI(image): # this function calculates a series of spectral indices\n",
    "    ndti = image.normalizedDifference(['B11','B12']).rename('ndti').float()\n",
    "    ndre = image.normalizedDifference(['B5','B4']).rename('ndre').float()\n",
    "    ndvi = image.normalizedDifference(['B8','B4']).rename('ndvi').float()\n",
    "    ndwi = image.normalizedDifference(['B3','B8']).rename('ndwi').float()\n",
    "    mndwi = image.normalizedDifference(['B3','B11']).rename('mndwi').float()\n",
    "    return image.addBands([ndti,ndre,ndvi,ndwi,mndwi])\n",
    "\n",
    "def maskS2clouds(img): # this function perform cloud masking to Sentinel-2 images\n",
    "    img = img.clip(city)\n",
    "    qa=img.select('QA60')\n",
    "    # Bits 10 and 11 are clouds and cirrus, respectively.\n",
    "    mask1 = qa.bitwiseAnd(1 << 10).eq(0)\n",
    "    mask2 = qa.bitwiseAnd(1 << 11).eq(0)\n",
    "    return getNDSI(img.updateMask(mask1).updateMask(mask2))\n",
    "\n",
    "def to_float(band): # this function converts data type of image band to float\n",
    "    return img.select(band).toFloat()"
   ]
  },
  {
   "cell_type": "code",
   "execution_count": null,
   "metadata": {},
   "outputs": [],
   "source": [
    "start = '2017-01-01'# define the first day to collect images\n",
    "\n",
    "your_folder = 'your_folder' # define a folder on Google Drive to save the images\n",
    "\n",
    "st = ee.ImageCollection(\"COPERNICUS/S2\") # define the image collection to download (Sentinel-2)\n",
    "\n",
    "# Define a water mask\n",
    "jrc_water = ee.ImageCollection(\"JRC/GSW1_3/YearlyHistory\") # define water mask to use (JRC Yearly Water Classification History, v1.3)\n",
    "water_mask_all = ee.Image(jrc_water.filterDate('2016-1-1','2016-12-31').first()).unmask()\n",
    "\n",
    "# Import the collection of cities boundaries from Google Earth Engine\n",
    "# Need to upload the city boundary shapefile to Google Earth Engine fist\n",
    "cities_GEE = ee.FeatureCollection(\"projects/salurbal-backcast/assets/Boundaries/UGS_boundaries\")\n",
    "\n",
    "# Get the list of cities from the local machine\n",
    "cities = gpd.read_file(r'../Boundaries/Boundaries.shp')\n",
    "IDs = cities['ID'].to_list()"
   ]
  },
  {
   "cell_type": "code",
   "execution_count": null,
   "metadata": {},
   "outputs": [],
   "source": [
    "for ID in ['CO_001']: # use this line for toy example\n",
    "# for ID in IDs: use this line for full example\n",
    "    print(ID)\n",
    "    # Get the city boundary and water mask in Google Earth Engine\n",
    "    city = cities_GEE.filterMetadata('ID','equals',ID).first().geometry()\n",
    "    region = city.bounds().getInfo()['coordinates']\n",
    "    water_mask = water_mask_all.lte(1).clip(city);\n",
    "\n",
    "    # Get images and apply cloud mask, the the median composite, and apply water mask\n",
    "    imgs = st.filterBounds(city).filterDate('2017-01-01','2017-12-31').map(maskS2clouds)\n",
    "    img = imgs.median().clip(city).updateMask(water_mask)\n",
    " \n",
    "    # Get texture uisng Gray-Level Co-Occurence Matrix\n",
    "    glcm = img.select('B8').int32().glcmTexture(size=4).select('B8_contrast').rename('glcm').float()\n",
    "    img =  img.addBands(glcm)\n",
    "    \n",
    "    # Select the bands of interest\n",
    "    bands=['ndti','ndre','ndvi','ndwi','mndwi','glcm','B2','B3','B4','B8']\n",
    "    img_scale = ee.Image([to_float(band) for band in bands])\n",
    "  \n",
    "    # export img\n",
    "    task = ee.batch.Export.image.toDrive(img_scale,\n",
    "                                         folder= your_folder,description=str(ID),fileNamePrefix=str(ID),\n",
    "                                         region=region,scale=10,crs='EPSG:3857'\n",
    "                                         ,maxPixels=1e11,skipEmptyTiles=True)\n",
    "    task.start()"
   ]
  },
  {
   "cell_type": "code",
   "execution_count": null,
   "metadata": {},
   "outputs": [],
   "source": [
    "# check data processing status on Google Earth Engine\n",
    "ee.batch.Task.list()"
   ]
  }
 ],
 "metadata": {
  "kernelspec": {
   "display_name": "Python 3 (ipykernel)",
   "language": "python",
   "name": "python3"
  },
  "language_info": {
   "codemirror_mode": {
    "name": "ipython",
    "version": 3
   },
   "file_extension": ".py",
   "mimetype": "text/x-python",
   "name": "python",
   "nbconvert_exporter": "python",
   "pygments_lexer": "ipython3",
   "version": "3.9.7"
  }
 },
 "nbformat": 4,
 "nbformat_minor": 2
}
